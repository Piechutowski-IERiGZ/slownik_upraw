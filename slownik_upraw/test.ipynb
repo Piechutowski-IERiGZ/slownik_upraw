{
 "cells": [
  {
   "cell_type": "code",
   "execution_count": 9,
   "id": "99fcff72",
   "metadata": {},
   "outputs": [],
   "source": [
    "from openpyxl import Workbook\n",
    "from openpyxl.worksheet.worksheet import Worksheet"
   ]
  },
  {
   "cell_type": "code",
   "execution_count": 28,
   "id": "474a3c15",
   "metadata": {},
   "outputs": [],
   "source": [
    "wb = Workbook()"
   ]
  },
  {
   "cell_type": "code",
   "execution_count": 29,
   "id": "2f5ff78d",
   "metadata": {},
   "outputs": [],
   "source": [
    "ws: Worksheet = wb['Sheet']"
   ]
  },
  {
   "cell_type": "code",
   "execution_count": 30,
   "id": "3f28cc95",
   "metadata": {},
   "outputs": [],
   "source": [
    "ws.title = \"Uprawy\""
   ]
  },
  {
   "cell_type": "code",
   "execution_count": 31,
   "id": "73101cbe",
   "metadata": {},
   "outputs": [],
   "source": [
    "headers = [\"Name\", \"Age\", \"City\"]\n",
    "ws.append(headers)"
   ]
  },
  {
   "cell_type": "code",
   "execution_count": 32,
   "id": "582bc097",
   "metadata": {},
   "outputs": [],
   "source": [
    "rows = [\n",
    "    [\"Alice\", 342342340, \"New York\"],\n",
    "    [\"Bob\", 22434245, \"London\"],\n",
    "    [\"Charlie\", 3523423423423, \"Paris\"]\n",
    "]\n",
    "\n",
    "for row in rows:\n",
    "    ws.append(row)"
   ]
  },
  {
   "cell_type": "code",
   "execution_count": 33,
   "id": "2ec022ac",
   "metadata": {},
   "outputs": [],
   "source": [
    "wb.save(\"test.xlsx\")"
   ]
  },
  {
   "cell_type": "code",
   "execution_count": null,
   "id": "74b3e074",
   "metadata": {},
   "outputs": [],
   "source": []
  }
 ],
 "metadata": {
  "kernelspec": {
   "display_name": ".venv",
   "language": "python",
   "name": "python3"
  },
  "language_info": {
   "codemirror_mode": {
    "name": "ipython",
    "version": 3
   },
   "file_extension": ".py",
   "mimetype": "text/x-python",
   "name": "python",
   "nbconvert_exporter": "python",
   "pygments_lexer": "ipython3",
   "version": "3.13.2"
  }
 },
 "nbformat": 4,
 "nbformat_minor": 5
}
